{
 "cells": [
  {
   "cell_type": "markdown",
   "metadata": {},
   "source": [
    "#### model 분석하기"
   ]
  },
  {
   "cell_type": "code",
   "execution_count": 2,
   "metadata": {},
   "outputs": [],
   "source": [
    "import torch\n",
    "import torch.nn as nn\n",
    "import torch.nn.init as init\n",
    "import timm\n",
    "import sys\n",
    "\n",
    "class PromptInput(nn.Module):\n",
    "    def __init__(self, num_prompts, embed_dim = 768, num_layers = 12):\n",
    "        super().__init__()\n",
    "        self.num_prompts = num_prompts\n",
    "        self.embed_dim = embed_dim\n",
    "\n",
    "        # Initialize prompt embeddings\n",
    "        self.prompts = nn.Parameter(torch.zeros(num_layers, num_prompts, embed_dim))\n",
    "\n",
    "        init.kaiming_uniform_(self.prompts)\n",
    "\n",
    "    def prepend_prompt(self, x, layer_idx):\n",
    "\n",
    "        batch_size = x.shape[0]\n",
    "\n",
    "        prompt_tokens = self.prompts[layer_idx,:,:].expand(batch_size,-1,-1)\n",
    "\n",
    "        if layer_idx == 0:\n",
    "            x = torch.cat((x[:, :1, :], prompt_tokens, x[:,1:,:]), dim = 1) # => [batch_size, cls_token + prompt_tokens + seq_len, embed_dim]\n",
    "\n",
    "        else:\n",
    "            x = torch.cat((x[:, :1, :], prompt_tokens, x[:, (1+self.num_prompts):, :]), dim=1) # 이미 추가된 prompt를 제외한 나머지 추가\n",
    "\n",
    "        return x \n",
    "    \n",
    "\n",
    "# prompt 추가 vit\n",
    "\n",
    "class Vpt_ViT(nn.Module):\n",
    "    def __init__(self, pretrained_model= 'vit_base_patch16_224',img_size=32, patch_size=4, num_classes=10, embed_dim=768, depth=12, num_heads=12, mlp_ratio=4., qkv_bias=True, drop_rate=0., attn_drop_rate=0., drop_path_rate=0.):\n",
    "        super().__init__()\n",
    "        self.prompt_embedding = PromptInput(num_prompts=100, embed_dim= 768, num_layers= depth)\n",
    "\n",
    "        #timm을 이용한 pretrained_model 적용\n",
    "        self.model = timm.create_model(pretrained_model, pretrained = True, img_size = img_size, patch_size = patch_size, num_classes = num_classes)\n",
    "    \n",
    "    def forward(self, x):\n",
    "        x = self.model.patch_embed(x)\n",
    "        cls_tokens = self.model.cls_token.expand(x.shape[0], -1, -1)  # 클래스 토큰 추가\n",
    "        x = torch.cat((cls_tokens, x), dim=1)\n",
    "        x = x + self.model.pos_embed \n",
    "        x = self.model.pos_drop(x)\n",
    "\n",
    "        for idx, block in enumerate(self.model.blocks):\n",
    "            x = self.prompt_embedding.prepend_prompt(x, idx) # prompt_embedding을 통해서 \n",
    "            x = block(x)\n",
    "\n",
    "        x = self.model.norm(x)  # 최종 레이어 정규화\n",
    "        x = self.model.forward_head(x)\n",
    "        return x  # 분류 헤드를 통한 출력"
   ]
  },
  {
   "cell_type": "code",
   "execution_count": null,
   "metadata": {},
   "outputs": [],
   "source": [
    "device = torch.device('cuda:0' if torch.cuda.is_available() else 'cpu')\n",
    "\n",
    "model = Vpt_ViT(pretrained_model='vit_base_patch16_224', img_size=32, patch_size=4, num_classes=10) # CiFAR-10 dataset\n",
    "model = model.to(device=device)\n",
    "\n",
    "for name, param in model.named_parameters():\n",
    "    if 'blocks' in name:\n",
    "        param.requires_grad = False\n",
    "    print(f\"Layer: {name} | Requires Grad: {param.requires_grad} | Shape: {param.shape}\")\n"
   ]
  }
 ],
 "metadata": {
  "kernelspec": {
   "display_name": "mings",
   "language": "python",
   "name": "python3"
  },
  "language_info": {
   "codemirror_mode": {
    "name": "ipython",
    "version": 3
   },
   "file_extension": ".py",
   "mimetype": "text/x-python",
   "name": "python",
   "nbconvert_exporter": "python",
   "pygments_lexer": "ipython3",
   "version": "3.7.16"
  }
 },
 "nbformat": 4,
 "nbformat_minor": 2
}
